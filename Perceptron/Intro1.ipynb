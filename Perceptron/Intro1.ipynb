{
 "cells": [
  {
   "cell_type": "markdown",
   "metadata": {
    "collapsed": false
   },
   "source": [
    "# Machine Learning Basics \n",
    "## Single Neuron (Math)\n",
    "\n",
    "An Artificial Neuron is a Mathematical Abstraction consisting in a system composed of \n",
    "\n",
    "* $ \\{ x_{i} \\}_{i=1,...,n} $ --> $ N $ Input \n",
    "* $ y $ --> 1 Output \n",
    "\n",
    "The simplest Transfer Function for this element is \n",
    "$$ y = sign \\sum_{i=1}^{n} a_{i} x_{i} $$\n",
    "\n",
    "Its goal is essentially to provide an *abstraction* that in this case is the simplest possible, so a *binarization*, on its input \n",
    "\n",
    "*Notes*\n",
    "\n",
    "* $ sign $ represents the sign function that returns $ \\pm 1 $ according to the sign of the value \n"
   ]
  },
  {
   "cell_type": "markdown",
   "metadata": {},
   "source": [
    "## Single Neuron (Code)\n",
    "\n",
    "This Neuron can be implemented as follows \n",
    "```cpp\n",
    "\n",
    "class Neuron \n",
    "{\n",
    "    public:\n",
    "        // Neuron shall be built specifying an initial set of weights \n",
    "        Neuron(std::vector<float> weights); \n",
    "        \n",
    "        // Method that implements the transformation function \n",
    "        // Considering it is a binary classifier, a bool type is returned \n",
    "        bool transform(std::vector<float> input); \n",
    "    \n",
    "    private: \n",
    "        // Neuron Weights \n",
    "        std::vector<float> m_weights; \n",
    "    \n",
    "}\n",
    "\n",
    "```\n"
   ]
  },
  {
   "cell_type": "markdown",
   "metadata": {},
   "source": [
    "## Single Neuron (Discussion)\n",
    "\n",
    "This Single Neuron is able to properly classify *Linearly Separable Data* like the one in this image \n",
    "  <img src=\"https://dl.dropboxusercontent.com/u/20439426/images/lessons/machinelearning1/SVMIntro1.gif\" alt=\"Linearly Separable Data\">\n",
    "\n",
    "The classification happens because the Neuron is able to replicate any *linear function* (i.e. any line in a plane) by properly adjusting (fitting) the parameters. \n",
    "\n",
    "In case of *linearly separable data* it does exist, by definition, at least one line that can correctly separate the, so the processo of *tuning* consists of in finding the *parameters set* allowing the Neuron to replicate the above mentioned line. \n"
   ]
  },
  {
   "cell_type": "markdown",
   "metadata": {},
   "source": [
    "## Training - Supervised Learning (Math)\n",
    "Obviously it would be great to find a way to define an **automatic procedure** allowing the Neuron to find the *parameters setup* to perform a correct *linear separation* \n",
    "\n",
    "More formally let's consider $ f(x;\\theta) $ the Neuron Transfer Function where \n",
    "\n",
    "* $ X $ is the Input Space \n",
    "* $ x $ is a value in the Input Space \n",
    "* $ \\theta $ is the Neuron Parameters Set \n",
    "\n",
    "Defining the above mentioned *automatic procedure* is equivalent to define a $ \\mathcal{L} $ Learning Operator that relying on a certain $ D = \\{ x_{i}, y_{i} \\} $ *Training Set* (a set of known input and output values) performs the computation of $ \\hat \\theta $ *estimated parameters value* \n",
    "\n",
    "$$ \\hat \\theta = \\mathcal{L}(f, D) $$\n",
    "\n",
    "This Learning Operator depends on the solution of a certain optimization problem \n"
   ]
  },
  {
   "cell_type": "markdown",
   "metadata": {},
   "source": [
    "## Traning - Supervised Learning (Code)\n",
    "\n",
    "From a code perspective, the goal is to find `std::vector<float> opt_weights` relying on `std::vector<float, bool> dataset` \n",
    "\n",
    "The $ \\mathcal{L} $ Learning Operator corresponds to the implementation of a **training function**\n",
    "```cpp\n",
    "\n",
    "class Neuron \n",
    "{\n",
    "    // ... previous definitions ... \n",
    "    \n",
    "    // Training Function\n",
    "    void train(std::vector<float, bool> dataset); \n",
    "\n",
    "}\n",
    "\n",
    "```\n",
    "\n"
   ]
  },
  {
   "cell_type": "code",
   "execution_count": null,
   "metadata": {
    "collapsed": true
   },
   "outputs": [],
   "source": []
  }
 ],
 "metadata": {
  "kernelspec": {
   "display_name": "Python 2",
   "language": "python",
   "name": "python2"
  },
  "language_info": {
   "codemirror_mode": {
    "name": "ipython",
    "version": 2
   },
   "file_extension": ".py",
   "mimetype": "text/x-python",
   "name": "python",
   "nbconvert_exporter": "python",
   "pygments_lexer": "ipython2",
   "version": "2.7.8"
  },
  "name": "MachineLearning1.ipynb"
 },
 "nbformat": 4,
 "nbformat_minor": 0
}
