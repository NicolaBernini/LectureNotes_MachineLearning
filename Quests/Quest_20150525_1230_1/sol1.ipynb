{
 "cells": [
  {
   "cell_type": "markdown",
   "metadata": {
    "collapsed": false,
    "slideshow": {
     "slide_type": "slide"
    }
   },
   "source": [
    "## Solution \n",
    "\n",
    "Considering a domain $ \\mathbb{R}^{n} $ n dimensional Euclidean Space, a generic Linear Function is identified by \n",
    "$$ f(x) = w \\cdot x \\qquad w,x \\in \\mathbb{R}^{n} $$\n",
    "\n",
    "Hence essentially a linear function consists of a *weighted sum* that's exactly what happens in the **first stadium** of a perceptron Transfer Function. \n",
    "\n",
    "Training a Perceptron, from a statistical point of view, means performing **parameters fitting** hence finding the $ \\hat w $ *estimated set of weights* (let's assume that's the only parameters in the present model, no parameters related to the sigmoid function) that **make the Perceptron emulate the desired linear function** \n",
    "\n",
    "The **second stadium** of the Perceptron Transfer Function regards **getting the sign** resulting from the dot product: in fact the returned value of the sigmoid function, when working far from the high gain region (highly noisy), depends just on the sign of the dot product. "
   ]
  },
  {
   "cell_type": "code",
   "execution_count": null,
   "metadata": {
    "collapsed": true
   },
   "outputs": [],
   "source": []
  }
 ],
 "metadata": {
  "kernelspec": {
   "display_name": "Python 2",
   "language": "python",
   "name": "python2"
  },
  "language_info": {
   "codemirror_mode": {
    "name": "ipython",
    "version": 2
   },
   "file_extension": ".py",
   "mimetype": "text/x-python",
   "name": "python",
   "nbconvert_exporter": "python",
   "pygments_lexer": "ipython2",
   "version": "2.7.8"
  },
  "name": "Test11_2015-05-22-121038.ipynb"
 },
 "nbformat": 4,
 "nbformat_minor": 0
}
