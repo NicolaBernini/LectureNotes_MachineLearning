{
 "cells": [
  {
   "cell_type": "markdown",
   "metadata": {
    "collapsed": false,
    "slideshow": {
     "slide_type": "slide"
    }
   },
   "source": [
    "## Problem \n",
    "Considered a Trained Perceptron with $ w = [1,2] $ and sigmoid unbiased transfer function. \n",
    "\n",
    "What linear function has it learned ? \n",
    "\n",
    "Can you draw it ? \n",
    "\n",
    "What is the relationship between this plot and the $ w $ parameters ? \n",
    "\n",
    "[Hint1](hint1.ipynb)\n",
    "\n",
    "[Solution](sol1.ipynb)"
   ]
  },
  {
   "cell_type": "code",
   "execution_count": null,
   "metadata": {
    "collapsed": true
   },
   "outputs": [],
   "source": []
  }
 ],
 "metadata": {
  "kernelspec": {
   "display_name": "Python 2",
   "language": "python",
   "name": "python2"
  },
  "language_info": {
   "codemirror_mode": {
    "name": "ipython",
    "version": 2
   },
   "file_extension": ".py",
   "mimetype": "text/x-python",
   "name": "python",
   "nbconvert_exporter": "python",
   "pygments_lexer": "ipython2",
   "version": "2.7.8"
  },
  "name": "Test11_2015-05-22-121038.ipynb"
 },
 "nbformat": 4,
 "nbformat_minor": 0
}
