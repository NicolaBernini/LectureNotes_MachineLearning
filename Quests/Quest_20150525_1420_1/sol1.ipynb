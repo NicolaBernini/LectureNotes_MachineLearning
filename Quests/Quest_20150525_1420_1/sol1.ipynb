{
 "cells": [
  {
   "cell_type": "markdown",
   "metadata": {
    "collapsed": false,
    "slideshow": {
     "slide_type": "slide"
    }
   },
   "source": [
    "## Solution \n",
    "\n",
    "The Linear Learned Function has domain in $ \\mathbb{R}^{2} $ and depends just on the parameters $ w \\in \\mathbb{R}^{2} $ \n",
    "\n",
    "$$ f(x) = w \\cdot x = (1,2) \\cdot (x_{1}, x_{2}) = x_{1} + 2 x_{2} \\qquad x \\in \\mathbb{R}^{2} $$\n",
    "\n",
    "Making it equal to zero, we get the following equation \n",
    "\n",
    "$$ x_{1} + 2x_{2} = 0 $$\n",
    "\n",
    "that corresponds to the following graph "
   ]
  },
  {
   "cell_type": "code",
   "execution_count": 1,
   "metadata": {
    "collapsed": false
   },
   "outputs": [
    {
     "data": {
      "image/png": "[encoded data removed]",
      "text/plain": [
       "<matplotlib.figure.Figure at 0x7f10254671d0>"
      ]
     },
     "metadata": {},
     "output_type": "display_data"
    },
    {
     "data": {
      "text/html": [
       "<script>\n",
       "code_show=true; \n",
       "function code_toggle() {\n",
       " if (code_show){\n",
       " $('div.input').hide();\n",
       " } else {\n",
       " $('div.input').show();\n",
       " }\n",
       " code_show = !code_show\n",
       "} \n",
       "$( document ).ready(code_toggle);\n",
       "</script>\n",
       "The raw code for this IPython notebook is by default hidden for easier reading.\n",
       "To toggle on/off the raw code, click <a href=\"javascript:code_toggle()\">here</a>."
      ],
      "text/plain": [
       "<IPython.core.display.HTML object>"
      ]
     },
     "execution_count": 1,
     "metadata": {},
     "output_type": "execute_result"
    }
   ],
   "source": [
    "%matplotlib inline\n",
    "import numpy as np\n",
    "import matplotlib.pyplot as plt\n",
    "\n",
    "# y = -2x\n",
    "x = np.arange(-10,10); \n",
    "y = -2.*x; \n",
    "\n",
    "# Weight Vector [1,2] scaled to see it better \n",
    "weight_vec =np.array( [ [0,0,10,20]]) \n",
    "X,Y,U,V = zip(*weight_vec)\n",
    "\n",
    "plt.figure()\n",
    "ax = plt.gca()\n",
    "ax.quiver(X,Y,U,V,angles='xy',scale_units='xy',scale=1)\n",
    "\n",
    "#print \"x = \" + str(x); \n",
    "#print \"y = \" + str(y); \n",
    "plt.axhline(0, color='black')\n",
    "plt.axvline(0, color='black')\n",
    "\n",
    "plt.plot(x,y);\n",
    "plt.show(); \n",
    "\n",
    "# Code to Toggle the Cell \n",
    "from IPython.display import HTML\n",
    "\n",
    "HTML('''<script>\n",
    "code_show=true; \n",
    "function code_toggle() {\n",
    " if (code_show){\n",
    " $('div.input').hide();\n",
    " } else {\n",
    " $('div.input').show();\n",
    " }\n",
    " code_show = !code_show\n",
    "} \n",
    "$( document ).ready(code_toggle);\n",
    "</script>\n",
    "The raw code for this IPython notebook is by default hidden for easier reading.\n",
    "To toggle on/off the raw code, click <a href=\"javascript:code_toggle()\">here</a>.''')\n",
    "\n"
   ]
  },
  {
   "cell_type": "code",
   "execution_count": null,
   "metadata": {
    "collapsed": true
   },
   "outputs": [],
   "source": []
  }
 ],
 "metadata": {
  "kernelspec": {
   "display_name": "Python 2",
   "language": "python",
   "name": "python2"
  },
  "language_info": {
   "codemirror_mode": {
    "name": "ipython",
    "version": 2
   },
   "file_extension": ".py",
   "mimetype": "text/x-python",
   "name": "python",
   "nbconvert_exporter": "python",
   "pygments_lexer": "ipython2",
   "version": "2.7.8"
  },
  "name": "Test11_2015-05-22-121038.ipynb"
 },
 "nbformat": 4,
 "nbformat_minor": 0
}
