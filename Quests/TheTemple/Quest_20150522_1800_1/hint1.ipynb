{
 "cells": [
  {
   "cell_type": "markdown",
   "metadata": {
    "collapsed": false,
    "slideshow": {
     "slide_type": "slide"
    }
   },
   "source": [
    "## Hint \n",
    "\n",
    "### Main Quest \n",
    "\n",
    "Think about what the Random Variable does: essentially it *transforms* (hence it is a mapping) but does it behave in a deterministic way ? \n",
    "\n",
    "Try to think a good model to represent it \n",
    "\n",
    "\n",
    "### Side Quest \n",
    "\n",
    "So a random variable could be considered as a *transformation* hence how can you be reasonably sure it behaves randomly in its transformation ? \n",
    "\n",
    "Look at what gets it and what gets out ... is any input value passed ? \n"
   ]
  },
  {
   "cell_type": "code",
   "execution_count": null,
   "metadata": {
    "collapsed": true
   },
   "outputs": [],
   "source": []
  }
 ],
 "metadata": {
  "kernelspec": {
   "display_name": "Python 2",
   "language": "python",
   "name": "python2"
  },
  "language_info": {
   "codemirror_mode": {
    "name": "ipython",
    "version": 2
   },
   "file_extension": ".py",
   "mimetype": "text/x-python",
   "name": "python",
   "nbconvert_exporter": "python",
   "pygments_lexer": "ipython2",
   "version": "2.7.8"
  },
  "name": "Test11_2015-05-22-121038.ipynb"
 },
 "nbformat": 4,
 "nbformat_minor": 0
}
