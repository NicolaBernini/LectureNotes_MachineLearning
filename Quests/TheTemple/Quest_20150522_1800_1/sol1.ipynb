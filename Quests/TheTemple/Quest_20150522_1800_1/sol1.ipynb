{
 "cells": [
  {
   "cell_type": "markdown",
   "metadata": {
    "collapsed": false,
    "slideshow": {
     "slide_type": "slide"
    }
   },
   "source": [
    "## Solution \n",
    "\n",
    "### Main Quest \n",
    "\n",
    "Think about representing a $ X $ *Random Variable* as **black box non deterministic mapping** because \n",
    "\n",
    "* you don't know anything about its internal mechanisms (black box)\n",
    "* the non determinism meaning is related to the ***Side Quest*\n",
    "\n",
    "More formally it can be considered as \n",
    "$$ X : \\Omega \\rightarrow \\mathbb{R}^{n} $$\n",
    "\n",
    "making no particular assumption on $ \\Omega $ *Input Space* and assuming it provides values in $ \\mathbb{R}^{n} $ *Euclidean Space*\n",
    "\n",
    "\n",
    "\n",
    "### Side Quest \n",
    "\n",
    "Considering it is a black box, just think about its Input and Output. \n",
    "\n",
    "No Input is directly passed by the caller to the function, so as far as we know, it is chosen by *some logic* (black box structure does not allow to look inside) maybe using *time* from the $ \\Omega $ *Input Space*\n",
    "\n"
   ]
  },
  {
   "cell_type": "code",
   "execution_count": null,
   "metadata": {
    "collapsed": true
   },
   "outputs": [],
   "source": []
  }
 ],
 "metadata": {
  "kernelspec": {
   "display_name": "Python 2",
   "language": "python",
   "name": "python2"
  },
  "language_info": {
   "codemirror_mode": {
    "name": "ipython",
    "version": 2
   },
   "file_extension": ".py",
   "mimetype": "text/x-python",
   "name": "python",
   "nbconvert_exporter": "python",
   "pygments_lexer": "ipython2",
   "version": "2.7.8"
  },
  "name": "Test11_2015-05-22-121038.ipynb"
 },
 "nbformat": 4,
 "nbformat_minor": 0
}
