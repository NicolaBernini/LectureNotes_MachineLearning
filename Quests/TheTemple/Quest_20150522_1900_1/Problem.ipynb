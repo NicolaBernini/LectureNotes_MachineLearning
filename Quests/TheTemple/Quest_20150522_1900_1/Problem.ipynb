{
 "cells": [
  {
   "cell_type": "markdown",
   "metadata": {
    "collapsed": false,
    "slideshow": {
     "slide_type": "slide"
    }
   },
   "source": [
    "## Problem \n",
    "\n",
    "### Main Quest \n",
    "\n",
    "The $ E[\\cdot] $ *Expected Value Operator* can be applied on any Random Variable, even one you don't know anything about, or you need some particular assumptions and / or knowledge ? \n",
    "\n",
    "Which way can it be practically applied ?  \n",
    "\n",
    "\n",
    "### Side Notes\n",
    "\n",
    "Completing [This Quest](https://github.com/NicolaBernini/LectureNotes_MachineLearning/tree/master/Quests/TheTemple/Quest_20150522_1800_1) is suggested in order to get some useful insight \n",
    "\n",
    "[Hint1](hint1.ipynb)\n",
    "\n",
    "[Solution](sol1.ipynb)\n"
   ]
  },
  {
   "cell_type": "code",
   "execution_count": null,
   "metadata": {
    "collapsed": true
   },
   "outputs": [],
   "source": []
  }
 ],
 "metadata": {
  "kernelspec": {
   "display_name": "Python 2",
   "language": "python",
   "name": "python2"
  },
  "language_info": {
   "codemirror_mode": {
    "name": "ipython",
    "version": 2
   },
   "file_extension": ".py",
   "mimetype": "text/x-python",
   "name": "python",
   "nbconvert_exporter": "python",
   "pygments_lexer": "ipython2",
   "version": "2.7.8"
  },
  "name": "Test11_2015-05-22-121038.ipynb"
 },
 "nbformat": 4,
 "nbformat_minor": 0
}
