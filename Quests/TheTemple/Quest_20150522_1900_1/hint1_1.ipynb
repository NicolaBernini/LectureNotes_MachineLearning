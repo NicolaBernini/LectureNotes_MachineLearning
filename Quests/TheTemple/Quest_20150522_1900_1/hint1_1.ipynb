{
 "cells": [
  {
   "cell_type": "markdown",
   "metadata": {
    "collapsed": false,
    "slideshow": {
     "slide_type": "slide"
    }
   },
   "source": [
    "## Solution \n",
    "\n",
    "Let's recall the definition of *Expected Value Operator*\n",
    "\n",
    "$$ E[X] = \\int_{\\Omega} X dP(\\omega) $$\n",
    "\n",
    "This definition stems from the context of the *Measure Theory* and the element $ P(\\omega) $ is a **Probability Measure** \n",
    "\n",
    "It is a well defined concept only in case the (not directly observable) Domain of $ X $ *Random Variable* hence $ \\Omega $ is used to define a $ (\\Omega, \\mathcal{F}_{\\Omega}, P) $ **Measure Space** \n",
    "\n",
    "\n",
    "This integral should be computed as follows \n",
    "\n",
    "* selecting each $ \\omega \\in \\Omega $ \n",
    "* decomposing it on the basis of the chosen $ F_{\\Omega} $ *Sigma Algebra* so to have $ \\omega = \\bigcup_{i} \\omega_{i} \\qquad \\omega_{i} \\in \\mathcal{F}_{\\Omega} $ \n",
    "* computing $ P(\\omega) $ *Element Probability Measure* exploiting the previous decomposition hence $ P(\\omega) = \\sum_{i} P(\\omega_{i}) $ \n",
    "\n",
    "but as we have seen in another Quest, it is not possible to pass input values to $ X $ so how can we compute the integral ? \n",
    "\n",
    "Practically it should be possible to exploit a **Monte Carlo Approach** hence **sampling** $ \\Omega $ adequately to compute an acceptable approximation of this integral \n",
    "\n",
    "\n",
    "### Extra Quests \n",
    "\n",
    "Does the Integral $ \\int_{\\Omega} X dP(\\omega) $ always converge ? \n",
    "\n",
    "Any guarantee about it ? \n",
    "\n",
    "[Hint1_1](hint1_1.ipynb)\n",
    "\n",
    "[Solution1_1](sol1_1.ipynb)\n",
    "\n"
   ]
  },
  {
   "cell_type": "code",
   "execution_count": null,
   "metadata": {
    "collapsed": true
   },
   "outputs": [],
   "source": []
  }
 ],
 "metadata": {
  "kernelspec": {
   "display_name": "Python 2",
   "language": "python",
   "name": "python2"
  },
  "language_info": {
   "codemirror_mode": {
    "name": "ipython",
    "version": 2
   },
   "file_extension": ".py",
   "mimetype": "text/x-python",
   "name": "python",
   "nbconvert_exporter": "python",
   "pygments_lexer": "ipython2",
   "version": "2.7.8"
  },
  "name": "Test11_2015-05-22-121038.ipynb"
 },
 "nbformat": 4,
 "nbformat_minor": 0
}
