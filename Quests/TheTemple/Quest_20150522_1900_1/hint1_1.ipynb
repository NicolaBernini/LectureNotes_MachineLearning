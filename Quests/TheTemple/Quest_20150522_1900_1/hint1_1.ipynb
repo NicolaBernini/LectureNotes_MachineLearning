{
 "cells": [
  {
   "cell_type": "markdown",
   "metadata": {
    "collapsed": false,
    "slideshow": {
     "slide_type": "slide"
    }
   },
   "source": [
    "## Hint \n",
    "\n",
    "There is no guarantee that the Integral $ \\int_{\\Omega} X dP(\\omega) $ always converge \n",
    "\n",
    "Think about the role that different elements involved in the integration play specifically wrt the *domain sampling* strategy \n"
   ]
  },
  {
   "cell_type": "code",
   "execution_count": null,
   "metadata": {
    "collapsed": true
   },
   "outputs": [],
   "source": []
  }
 ],
 "metadata": {
  "kernelspec": {
   "display_name": "Python 2",
   "language": "python",
   "name": "python2"
  },
  "language_info": {
   "codemirror_mode": {
    "name": "ipython",
    "version": 2
   },
   "file_extension": ".py",
   "mimetype": "text/x-python",
   "name": "python",
   "nbconvert_exporter": "python",
   "pygments_lexer": "ipython2",
   "version": "2.7.8"
  },
  "name": "Test11_2015-05-22-121038.ipynb"
 },
 "nbformat": 4,
 "nbformat_minor": 0
}
