

{
  "nbformat": 4,
  "nbformat_minor": 0,
  "metadata": {
    "colab": {
      "name": "ML Basics1.ipynb",
      "version": "0.3.2",
      "views": {},
      "default_view": {},
      "provenance": []
    }
  },
  "cells": [
    {
      "metadata": {
        "id": "TGhjtnudq8cH",
        "colab_type": "code",
        "colab": {
          "autoexec": {
            "startup": false,
            "wait_interval": 0
          }
        }
      },
      "cell_type": "code",
      "source": [
        ""
      ],
      "execution_count": 0,
      "outputs": []
    },
    {
      "metadata": {
        "id": "vkYK4OXOq9TK",
        "colab_type": "text"
      },
      "cell_type": "markdown",
      "source": [
        "\n",
        "# Loss Function \n",
        "\n",
        "Let's consider a $ f \\in \\mathcal{F} $ Function Approximator which is able to perform predictions such as $ \\hat y = f(x) $ for some $ x \\in \\mathcal{X}, \\hat y \\in \\mathcal{Y} $ \n",
        "\n",
        "To get a quantitative measure aof how well the $ f $ predictor is working, let's introduce the Loss Function $ L \\in \\mathcal{L} $ as a dissimilarity measure of its 2 arguments \n",
        "\n",
        "$$ L : \\mathcal{Y} \\times \\mathcal{Y} \\rightarrow \\mathbb{R}^{+} $$\n",
        "\n",
        "\n"
      ]
    }
  ]
}

